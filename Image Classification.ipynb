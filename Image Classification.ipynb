{
 "cells": [
  {
   "cell_type": "code",
   "execution_count": 3,
   "metadata": {},
   "outputs": [],
   "source": [
    "import tensorflow as tf\n",
    "import random\n",
    "import numpy as np\n",
    "import cv2\n",
    "import glob\n",
    "from tqdm import tqdm\n",
    "from PIL import Image\n",
    "from pathlib import Path\n",
    "import pickle\n",
    "import os\n",
    "from tensorflow.keras.preprocessing.image import ImageDataGenerator\n",
    "from tensorflow import keras\n",
    "from tensorflow.keras import layers\n",
    "from tensorflow.keras.layers import Conv2D, Activation, Dropout, Dense, Flatten, MaxPooling2D\n",
    "from tensorflow.keras.models import Sequential\n",
    "from tensorflow.keras.optimizers import RMSprop\n",
    "from tensorflow.keras.callbacks import TensorBoard\n",
    "import time"
   ]
  },
  {
   "cell_type": "code",
   "execution_count": null,
   "metadata": {},
   "outputs": [],
   "source": [
    "training_data = []\n",
    "DATADIR = \"C:/Users/User/Desktop/ML/Clothes\"\n",
    "CATEGORIES = [\"Notags\", \"Tags\"]\n",
    "IMG_SIZE = 256\n",
    "def create_training_data():\n",
    "    for category in CATEGORIES:  # notags and tags categories\n",
    "\n",
    "        path = os.path.join(DATADIR,category)  # create path to notags and tags\n",
    "        class_num = CATEGORIES.index(category)  # get the classification  (0 or a 1). 0=nptag 1=tag\n",
    "\n",
    "        for img in tqdm(os.listdir(path)):  # iterate over each image per notags and tags\n",
    "            try:\n",
    "                img_array = cv2.imread(os.path.join(path,img))  # convert to array\n",
    "                new_array = cv2.resize(img_array, (IMG_SIZE, IMG_SIZE))  # resize to normalize image size\n",
    "                training_data.append([new_array, class_num])  # add this to our training_data\n",
    "            except Exception as e:  # pass errors\n",
    "                pass\n",
    "\n",
    "create_training_data() \n",
    "\n",
    "print(len(training_data))"
   ]
  },
  {
   "cell_type": "code",
   "execution_count": null,
   "metadata": {},
   "outputs": [],
   "source": [
    "import random\n",
    "#Shuffle data\n",
    "random.shuffle(training_data)"
   ]
  },
  {
   "cell_type": "code",
   "execution_count": null,
   "metadata": {},
   "outputs": [],
   "source": [
    "X = []\n",
    "y = []\n",
    "#Split to features and labels\n",
    "for features,label in training_data:\n",
    "    X.append(features)\n",
    "    y.append(label)\n",
    "    \n",
    "X = np.array(X).reshape(-1, IMG_SIZE, IMG_SIZE, 3)\n",
    "y = np.array(y)    "
   ]
  },
  {
   "cell_type": "code",
   "execution_count": null,
   "metadata": {},
   "outputs": [],
   "source": [
    "#Normalize RGB from (0,255) to (0,1)\n",
    "X = X/255.0"
   ]
  },
  {
   "cell_type": "code",
   "execution_count": null,
   "metadata": {},
   "outputs": [],
   "source": [
    "#Store features array on disk\n",
    "pickle_out = open(\"X.pickle\", \"wb\")\n",
    "pickle.dump(X, pickle_out)\n",
    "pickle_out.close()\n",
    "#Store labels array on disk\n",
    "pickle_out = open(\"y.pickle\", \"wb\")\n",
    "pickle.dump(y, pickle_out)\n",
    "pickle_out.close()"
   ]
  },
  {
   "cell_type": "code",
   "execution_count": 2,
   "metadata": {},
   "outputs": [],
   "source": [
    "#Load features and labels without a need to extract and clean data\n",
    "pickle_in = open(\"X.pickle\", \"rb\")\n",
    "X = pickle.load(pickle_in)\n",
    "pickle_in.close()\n",
    "pickle_in = open(\"y.pickle\", \"rb\")\n",
    "y = pickle.load(pickle_in)\n",
    "pickle_in.close()"
   ]
  },
  {
   "cell_type": "code",
   "execution_count": 13,
   "metadata": {},
   "outputs": [],
   "source": [
    "#Name for tensorboard logs AlexNEt implementation 74-77% valaccuracy\n",
    "IMG_SIZE = 256\n",
    "NAME = \"Tags-notags-clothes-AlexNEt-{}\".format(int(time.time()))\n",
    "tensorboard = TensorBoard(log_dir=\"logs/{}\".format(NAME))\n",
    "model = keras.models.Sequential([\n",
    "    keras.layers.Conv2D(filters=96, kernel_size=(11,11), strides=(4,4), activation='relu', input_shape=(IMG_SIZE,IMG_SIZE,3)),\n",
    "    keras.layers.BatchNormalization(),\n",
    "    keras.layers.MaxPool2D(pool_size=(3,3), strides=(2,2)),\n",
    "    keras.layers.Conv2D(filters=256, kernel_size=(5,5), strides=(1,1), activation='relu', padding=\"same\"),\n",
    "    keras.layers.BatchNormalization(),\n",
    "    keras.layers.MaxPool2D(pool_size=(3,3), strides=(2,2)),\n",
    "    keras.layers.Conv2D(filters=384, kernel_size=(3,3), strides=(1,1), activation='relu', padding=\"same\"),\n",
    "    keras.layers.BatchNormalization(),\n",
    "    keras.layers.Conv2D(filters=384, kernel_size=(1,1), strides=(1,1), activation='relu', padding=\"same\"),\n",
    "    keras.layers.BatchNormalization(),\n",
    "    keras.layers.Conv2D(filters=256, kernel_size=(1,1), strides=(1,1), activation='relu', padding=\"same\"),\n",
    "    keras.layers.BatchNormalization(),\n",
    "    keras.layers.MaxPool2D(pool_size=(3,3), strides=(2,2)),\n",
    "    keras.layers.Flatten(),\n",
    "    keras.layers.Dense(4096, activation='relu'),\n",
    "    keras.layers.Dropout(0.5),\n",
    "    keras.layers.Dense(4096, activation='relu'),\n",
    "    keras.layers.Dropout(0.5),\n",
    "    keras.layers.Dense(1, activation='sigmoid')\n",
    "])"
   ]
  },
  {
   "cell_type": "code",
   "execution_count": 17,
   "metadata": {},
   "outputs": [],
   "source": [
    "#Name for tensorboard logs My CNN 80-83% valaccuracy\n",
    "NAME = \"Tags-notags-clothes-CNN-{}\".format(int(time.time()))\n",
    "tensorboard = TensorBoard(log_dir=\"logs/{}\".format(NAME))\n",
    "IMG_SIZE = 256\n",
    "# Model Architecture \n",
    "model = Sequential()\n",
    "model.add(Conv2D(16, (3, 3), input_shape=(IMG_SIZE, IMG_SIZE, 3)))\n",
    "model.add(Activation('relu'))\n",
    "model.add(MaxPooling2D(pool_size=(2, 2)))\n",
    "\n",
    "model.add(Conv2D(32, (3, 3)))\n",
    "model.add(Activation('relu'))\n",
    "model.add(MaxPooling2D(pool_size=(2, 2)))\n",
    "\n",
    "\n",
    "model.add(Conv2D(64, (3, 3)))\n",
    "model.add(Activation('relu'))\n",
    "model.add(MaxPooling2D(pool_size=(2, 2)))\n",
    "\n",
    "\n",
    "model.add(Conv2D(64, (3, 3)))\n",
    "model.add(Activation('relu'))\n",
    "model.add(MaxPooling2D(pool_size=(2, 2)))\n",
    "\n",
    "model.add(Conv2D(64, (3, 3)))\n",
    "model.add(Activation('relu'))\n",
    "model.add(MaxPooling2D(pool_size=(2, 2)))\n",
    "\n",
    "model.add(Flatten())  # this converts our 3D feature maps to 1D feature vectors\n",
    "model.add(Dense(512))\n",
    "model.add(Activation('relu'))\n",
    "model.add(Dropout(0.4))\n",
    "model.add(Dense(1))\n",
    "model.add(Activation('sigmoid'))\n",
    "\n"
   ]
  },
  {
   "cell_type": "code",
   "execution_count": 18,
   "metadata": {},
   "outputs": [
    {
     "name": "stdout",
     "output_type": "stream",
     "text": [
      "Model: \"sequential_4\"\n",
      "_________________________________________________________________\n",
      "Layer (type)                 Output Shape              Param #   \n",
      "=================================================================\n",
      "conv2d_15 (Conv2D)           (None, 254, 254, 16)      448       \n",
      "_________________________________________________________________\n",
      "activation_14 (Activation)   (None, 254, 254, 16)      0         \n",
      "_________________________________________________________________\n",
      "max_pooling2d_13 (MaxPooling (None, 127, 127, 16)      0         \n",
      "_________________________________________________________________\n",
      "conv2d_16 (Conv2D)           (None, 125, 125, 32)      4640      \n",
      "_________________________________________________________________\n",
      "activation_15 (Activation)   (None, 125, 125, 32)      0         \n",
      "_________________________________________________________________\n",
      "max_pooling2d_14 (MaxPooling (None, 62, 62, 32)        0         \n",
      "_________________________________________________________________\n",
      "conv2d_17 (Conv2D)           (None, 60, 60, 64)        18496     \n",
      "_________________________________________________________________\n",
      "activation_16 (Activation)   (None, 60, 60, 64)        0         \n",
      "_________________________________________________________________\n",
      "max_pooling2d_15 (MaxPooling (None, 30, 30, 64)        0         \n",
      "_________________________________________________________________\n",
      "conv2d_18 (Conv2D)           (None, 28, 28, 64)        36928     \n",
      "_________________________________________________________________\n",
      "activation_17 (Activation)   (None, 28, 28, 64)        0         \n",
      "_________________________________________________________________\n",
      "max_pooling2d_16 (MaxPooling (None, 14, 14, 64)        0         \n",
      "_________________________________________________________________\n",
      "conv2d_19 (Conv2D)           (None, 12, 12, 64)        36928     \n",
      "_________________________________________________________________\n",
      "activation_18 (Activation)   (None, 12, 12, 64)        0         \n",
      "_________________________________________________________________\n",
      "max_pooling2d_17 (MaxPooling (None, 6, 6, 64)          0         \n",
      "_________________________________________________________________\n",
      "flatten_3 (Flatten)          (None, 2304)              0         \n",
      "_________________________________________________________________\n",
      "dense_7 (Dense)              (None, 512)               1180160   \n",
      "_________________________________________________________________\n",
      "activation_19 (Activation)   (None, 512)               0         \n",
      "_________________________________________________________________\n",
      "dropout_3 (Dropout)          (None, 512)               0         \n",
      "_________________________________________________________________\n",
      "dense_8 (Dense)              (None, 1)                 513       \n",
      "_________________________________________________________________\n",
      "activation_20 (Activation)   (None, 1)                 0         \n",
      "=================================================================\n",
      "Total params: 1,278,113\n",
      "Trainable params: 1,278,113\n",
      "Non-trainable params: 0\n",
      "_________________________________________________________________\n"
     ]
    }
   ],
   "source": [
    "#Model compilation\n",
    "model.compile(loss=\"binary_crossentropy\",\n",
    "             optimizer=RMSprop(lr=0.001),\n",
    "             metrics=['accuracy'])\n",
    "\n",
    "model.summary()"
   ]
  },
  {
   "cell_type": "code",
   "execution_count": 20,
   "metadata": {},
   "outputs": [
    {
     "name": "stdout",
     "output_type": "stream",
     "text": [
      "Epoch 1/15\n",
      "142/142 [==============================] - 19s 133ms/step - loss: 0.1106 - accuracy: 0.9582 - val_loss: 0.7572 - val_accuracy: 0.8046\n",
      "Epoch 2/15\n",
      "142/142 [==============================] - 4s 29ms/step - loss: 0.0993 - accuracy: 0.9665 - val_loss: 0.8158 - val_accuracy: 0.8143\n",
      "Epoch 3/15\n",
      "142/142 [==============================] - 4s 29ms/step - loss: 0.0992 - accuracy: 0.9674 - val_loss: 0.9623 - val_accuracy: 0.8389\n",
      "Epoch 4/15\n",
      "142/142 [==============================] - 4s 30ms/step - loss: 0.0862 - accuracy: 0.9714 - val_loss: 0.9293 - val_accuracy: 0.8275\n",
      "Epoch 5/15\n",
      "142/142 [==============================] - 4s 30ms/step - loss: 0.0859 - accuracy: 0.9729 - val_loss: 0.8903 - val_accuracy: 0.8231\n",
      "Epoch 6/15\n",
      "142/142 [==============================] - 4s 30ms/step - loss: 0.0865 - accuracy: 0.9690 - val_loss: 1.0076 - val_accuracy: 0.8169\n",
      "Epoch 7/15\n",
      "142/142 [==============================] - 4s 30ms/step - loss: 0.0746 - accuracy: 0.9753 - val_loss: 0.9272 - val_accuracy: 0.8310\n",
      "Epoch 8/15\n",
      "142/142 [==============================] - 4s 30ms/step - loss: 0.0700 - accuracy: 0.9786 - val_loss: 1.2547 - val_accuracy: 0.8248\n",
      "Epoch 9/15\n",
      "142/142 [==============================] - 4s 30ms/step - loss: 0.0801 - accuracy: 0.9760 - val_loss: 1.0494 - val_accuracy: 0.8310\n",
      "Epoch 10/15\n",
      "142/142 [==============================] - 4s 29ms/step - loss: 0.0698 - accuracy: 0.9789 - val_loss: 1.0166 - val_accuracy: 0.8239\n",
      "Epoch 11/15\n",
      "142/142 [==============================] - 4s 30ms/step - loss: 0.0599 - accuracy: 0.9808 - val_loss: 0.9124 - val_accuracy: 0.8275\n",
      "Epoch 12/15\n",
      "142/142 [==============================] - 4s 30ms/step - loss: 0.0650 - accuracy: 0.9797 - val_loss: 1.1780 - val_accuracy: 0.8239\n",
      "Epoch 13/15\n",
      "142/142 [==============================] - 4s 30ms/step - loss: 0.0611 - accuracy: 0.9782 - val_loss: 0.9031 - val_accuracy: 0.8477\n",
      "Epoch 14/15\n",
      "142/142 [==============================] - 4s 30ms/step - loss: 0.0585 - accuracy: 0.9841 - val_loss: 1.1832 - val_accuracy: 0.8257\n",
      "Epoch 15/15\n",
      "142/142 [==============================] - 4s 29ms/step - loss: 0.0609 - accuracy: 0.9824 - val_loss: 1.0774 - val_accuracy: 0.8028\n"
     ]
    },
    {
     "data": {
      "text/plain": [
       "<tensorflow.python.keras.callbacks.History at 0x256e92618b0>"
      ]
     },
     "execution_count": 20,
     "metadata": {},
     "output_type": "execute_result"
    }
   ],
   "source": [
    "#Training with 15 epochs and 20% validation split. Logs of loss and accuracy are sent to tensorboard\n",
    "epochs = 15\n",
    "model.fit(X, y, batch_size=32, validation_split=0.2, epochs=epochs,verbose=1, callbacks=[tensorboard])"
   ]
  }
 ],
 "metadata": {
  "kernelspec": {
   "display_name": "Python 3",
   "language": "python",
   "name": "python3"
  },
  "language_info": {
   "codemirror_mode": {
    "name": "ipython",
    "version": 3
   },
   "file_extension": ".py",
   "mimetype": "text/x-python",
   "name": "python",
   "nbconvert_exporter": "python",
   "pygments_lexer": "ipython3",
   "version": "3.8.6"
  }
 },
 "nbformat": 4,
 "nbformat_minor": 1
}